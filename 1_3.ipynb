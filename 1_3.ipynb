{
 "cells": [
  {
   "cell_type": "code",
   "execution_count": 215,
   "metadata": {
    "collapsed": true
   },
   "outputs": [],
   "source": [
    "%matplotlib inline\n",
    "import matplotlib.pyplot as plt\n",
    "import numpy as np\n",
    "import numpy.linalg as lin\n",
    "from time import time"
   ]
  },
  {
   "cell_type": "code",
   "execution_count": 167,
   "metadata": {
    "collapsed": false
   },
   "outputs": [],
   "source": [
    "def MatFur(n):\n",
    "    F=np.empty((n,n),dtype=complex)\n",
    "    for k in xrange(n):\n",
    "        F[k,0:n]=np.power(np.exp(-2*np.pi/n*1j*k),range(n))\n",
    "    return F"
   ]
  },
  {
   "cell_type": "code",
   "execution_count": 209,
   "metadata": {
    "collapsed": true
   },
   "outputs": [],
   "source": [
    "def furye(x,n):\n",
    "    if n==2:\n",
    "        y=[x[0]+x[1], x[0]-x[1]]\n",
    "    else:\n",
    "        nn=n/2\n",
    "        y=np.append(furye((x[0:nn]+x[nn:n]),nn),\n",
    "           furye((x[0:nn]-x[nn:n])*np.power(np.exp(-2*np.pi/n*1j),range(nn)),nn))\n",
    "    return np.append(y[0:n:2],y[1:n:2])\n",
    "#     return y"
   ]
  },
  {
   "cell_type": "code",
   "execution_count": 214,
   "metadata": {
    "collapsed": false
   },
   "outputs": [],
   "source": [
    "n=4\n",
    "# x=np.empty(n)\n",
    "# for k in xrange(n):\n",
    "#     x[k]=np.random.rand()\n",
    "# x=np.array([0,0,0,1])\n",
    "# y=furye(x,n)\n",
    "# print(y)\n",
    "# print(np.dot(MatFur(n),x))"
   ]
  },
  {
   "cell_type": "code",
   "execution_count": 224,
   "metadata": {
    "collapsed": false
   },
   "outputs": [
    {
     "name": "stdout",
     "output_type": "stream",
     "text": [
      "2\n",
      "4\n",
      "8\n",
      "16\n",
      "32\n",
      "64\n",
      "128\n",
      "256\n",
      "512\n",
      "1024\n",
      "2048\n",
      "4096\n"
     ]
    }
   ],
   "source": [
    "nn=[2,4,8,16,32,64,128,256,512,1024,2048,4096]\n",
    "ns=np.size(nn)\n",
    "tm=np.zeros(ns)\n",
    "tf=np.zeros(ns)\n",
    "td=np.zeros(ns)\n",
    "for k in xrange(ns):\n",
    "    n=nn[k]\n",
    "    print(n)\n",
    "    x=np.zeros(n)\n",
    "    for i in xrange(n):\n",
    "        x[i]=np.random.rand()\n",
    "    y=np.zeros(n)\n",
    "    \n",
    "    tic=time()\n",
    "    y=furye(x,n)\n",
    "    toc=time()\n",
    "    tm[k]=toc-tic\n",
    "    \n",
    "    tic=time()\n",
    "    y2=np.fft.fft(x)\n",
    "    toc=time()\n",
    "    tf[k]=toc-tic\n",
    "    \n",
    "    F=MatFur(n)\n",
    "    tic=time()\n",
    "    y=np.dot(F,x)\n",
    "    toc=time()\n",
    "    td[k]=toc-tic"
   ]
  },
  {
   "cell_type": "code",
   "execution_count": 225,
   "metadata": {
    "collapsed": false
   },
   "outputs": [
    {
     "name": "stdout",
     "output_type": "stream",
     "text": [
      "[2, 4, 8, 16, 32, 64, 128, 256, 512, 1024, 2048, 4096]\n",
      "[  4.00543213e-05   2.37941742e-04   3.24964523e-04   1.11985207e-03\n",
      "   1.65200233e-03   1.44600868e-03   2.98500061e-03   8.76998901e-03\n",
      "   1.25658512e-02   2.14939117e-02   4.37948704e-02   9.21838284e-02]\n",
      " \n",
      "[  2.40802765e-05   2.19345093e-05   2.00271606e-05   2.38418579e-05\n",
      "   1.81198120e-05   1.50203705e-05   2.21729279e-05   2.40802765e-05\n",
      "   2.78949738e-05   3.79085541e-05   1.04904175e-04   2.05993652e-04]\n",
      " \n",
      "[  1.88827515e-04   1.00135803e-05   3.50475311e-05   4.60147858e-05\n",
      "   2.09808350e-05   2.09808350e-05   9.48905945e-05   1.84059143e-04\n",
      "   6.85930252e-04   2.66408920e-03   9.35387611e-03   7.03449249e-02]\n"
     ]
    },
    {
     "data": {
      "text/plain": [
       "[<matplotlib.lines.Line2D at 0x11074f890>]"
      ]
     },
     "execution_count": 225,
     "metadata": {},
     "output_type": "execute_result"
    },
    {
     "data": {
      "image/png": "[encoded data removed]",
      "text/plain": [
       "<matplotlib.figure.Figure at 0x1103e4b90>"
      ]
     },
     "metadata": {},
     "output_type": "display_data"
    }
   ],
   "source": [
    "print(nn)\n",
    "print(tm)\n",
    "print(' ')\n",
    "print(tf)\n",
    "print(' ')\n",
    "print(td)\n",
    "\n",
    "plt.subplots_adjust(top=1.7,hspace=0.3)\n",
    "plt.subplot(311)\n",
    "plt.title('my algoritm')\n",
    "plt.ylabel('s')\n",
    "plt.semilogy(nn,tm)\n",
    "plt.subplot(312)\n",
    "plt.title('fft')\n",
    "plt.ylabel('s')\n",
    "plt.semilogy(nn,tf)\n",
    "plt.subplot(313)\n",
    "plt.title('np.dot')\n",
    "plt.ylabel('s')\n",
    "plt.semilogy(nn,td)"
   ]
  },
  {
   "cell_type": "code",
   "execution_count": null,
   "metadata": {
    "collapsed": true
   },
   "outputs": [],
   "source": []
  }
 ],
 "metadata": {
  "kernelspec": {
   "display_name": "Python 2",
   "language": "python",
   "name": "python2"
  },
  "language_info": {
   "codemirror_mode": {
    "name": "ipython",
    "version": 2
   },
   "file_extension": ".py",
   "mimetype": "text/x-python",
   "name": "python",
   "nbconvert_exporter": "python",
   "pygments_lexer": "ipython2",
   "version": "2.7.6"
  }
 },
 "nbformat": 4,
 "nbformat_minor": 1
}
